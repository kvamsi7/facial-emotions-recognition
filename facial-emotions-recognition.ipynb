{
  "nbformat": 4,
  "nbformat_minor": 0,
  "metadata": {
    "colab": {
      "name": "scratchpad",
      "provenance": [],
      "include_colab_link": true
    },
    "kernelspec": {
      "display_name": "Python 3",
      "name": "python3"
    },
    "accelerator": "GPU"
  },
  "cells": [
    {
      "cell_type": "markdown",
      "metadata": {
        "id": "view-in-github",
        "colab_type": "text"
      },
      "source": [
        "<a href=\"https://colab.research.google.com/github/kvamsi7/facial-emotions-recognition/blob/main/facial-emotions-recognition.ipynb\" target=\"_parent\"><img src=\"https://colab.research.google.com/assets/colab-badge.svg\" alt=\"Open In Colab\"/></a>"
      ]
    },
    {
      "cell_type": "code",
      "metadata": {
        "colab": {
          "base_uri": "https://localhost:8080/"
        },
        "id": "lIYdn1woOS1n",
        "outputId": "eee616c9-883b-43c9-99dd-ab2d3e30bf74"
      },
      "source": [
        "!git clone https://github.com/muxspace/facial_expressions.git"
      ],
      "execution_count": 1,
      "outputs": [
        {
          "output_type": "stream",
          "text": [
            "Cloning into 'facial_expressions'...\n",
            "remote: Enumerating objects: 14214, done.\u001b[K\n",
            "remote: Total 14214 (delta 0), reused 0 (delta 0), pack-reused 14214\u001b[K\n",
            "Receiving objects: 100% (14214/14214), 239.65 MiB | 5.01 MiB/s, done.\n",
            "Resolving deltas: 100% (223/223), done.\n",
            "Checking out files: 100% (13996/13996), done.\n"
          ],
          "name": "stdout"
        }
      ]
    },
    {
      "cell_type": "code",
      "metadata": {
        "id": "MutPgOFfvCkd"
      },
      "source": [
        "import csv\n",
        "data = {}\n",
        "with open('/content/facial_expressions/data/legend.csv') as f:\n",
        "  reader = csv.reader(f)\n",
        "  next(reader) # skiping headers\n",
        "\n",
        "  for row in reader:\n",
        "    key = row[2].lower()\n",
        "    if key in data:\n",
        "      data[key].append(row[1])\n",
        "    else:\n",
        "      data[key] = [row[1]]\n"
      ],
      "execution_count": 4,
      "outputs": []
    },
    {
      "cell_type": "code",
      "metadata": {
        "colab": {
          "base_uri": "https://localhost:8080/"
        },
        "id": "PChAbsyswXx_",
        "outputId": "fe609caa-125b-4f85-aec3-8fd569fdf6e3"
      },
      "source": [
        "emotions_list = list(data.keys())\n",
        "emotions_list"
      ],
      "execution_count": 9,
      "outputs": [
        {
          "output_type": "execute_result",
          "data": {
            "text/plain": [
              "['anger',\n",
              " 'surprise',\n",
              " 'disgust',\n",
              " 'fear',\n",
              " 'neutral',\n",
              " 'happiness',\n",
              " 'sadness',\n",
              " 'contempt']"
            ]
          },
          "metadata": {
            "tags": []
          },
          "execution_count": 9
        }
      ]
    },
    {
      "cell_type": "code",
      "metadata": {
        "id": "lIs2mxj6wYvP"
      },
      "source": [
        "# Data Directory\n",
        "import os "
      ],
      "execution_count": 7,
      "outputs": []
    },
    {
      "cell_type": "code",
      "metadata": {
        "id": "yPcJq4eHzEqr"
      },
      "source": [
        "os.mkdir('master_data')\n",
        "os.mkdir('master_data/training')\n",
        "os.mkdir('master_data/testing')"
      ],
      "execution_count": 8,
      "outputs": []
    },
    {
      "cell_type": "code",
      "metadata": {
        "id": "5njzilCFzOwm"
      },
      "source": [
        "for emotion in emotions_list:\n",
        "  os.mkdir(os.path.join('master_data/training',emotion))\n",
        "  os.mkdir(os.path.join('master_data/testing',emotion))"
      ],
      "execution_count": 10,
      "outputs": []
    },
    {
      "cell_type": "code",
      "metadata": {
        "id": "_PoV5eL2ztwT"
      },
      "source": [
        "from shutil import copyfile\n",
        "split_size = 0.8\n",
        "\n",
        "for emotion,images in data.items():\n",
        "  train_size = int(split_size * len(images))\n",
        "  train_images = images[:train_size]\n",
        "  test_images = images[train_size:]\n",
        "\n",
        "  for image in train_images:\n",
        "    source = os.path.join('/content/facial_expressions/images',image)\n",
        "    dest = os.path.join('/content/master_data/training/',emotion,image)\n",
        "    copyfile(source,dest)\n",
        "\n",
        "  for image in test_images:\n",
        "    source = os.path.join('/content/facial_expressions/images',image)\n",
        "    dest = os.path.join('/content/master_data/testing/',emotion,image)\n",
        "    copyfile(source,dest)"
      ],
      "execution_count": 13,
      "outputs": []
    },
    {
      "cell_type": "code",
      "metadata": {
        "id": "JrAGNCwJz2Yw"
      },
      "source": [
        ""
      ],
      "execution_count": null,
      "outputs": []
    }
  ]
}